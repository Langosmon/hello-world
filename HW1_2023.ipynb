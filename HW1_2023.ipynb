{
 "cells": [
  {
   "cell_type": "markdown",
   "metadata": {},
   "source": [
    "# EAPS 53900 Mesoscale Meteorology {-}\n",
    "## Homework #1: Fun with buoyancy! {-}\n",
    "\n",
    "In this assignment you will be taking a deep dive into the world of buoyancy. For the last problem, you will be making use of a numerical model, originally written in Python by OU Prof. Brian Fiedler and modified by yours truly. This model solves the nondimensional, inviscid, Boussinesq equations of motion and can be used to demonstrate many physical principles of atmospheric flow: in this case, the physics of rising buoyant thermal bubbles.\n",
    "<!-- \n",
    "$\\newcommand{\\V}[1]{\\vec{\\boldsymbol{#1}}}$\n",
    "$\\newcommand{\\I}[1]{\\widehat{\\boldsymbol{\\mathrm{#1}}}}$\n",
    "$\\newcommand{\\pd}[2]{\\frac{\\partial#1}{\\partial#2}}$\n",
    "$\\newcommand{\\pdt}[1]{\\frac{\\partial#1}{\\partial t}}$\n",
    "$\\newcommand{\\ddt}[1]{\\frac{\\D#1}{\\D t}}$\n",
    "$\\newcommand{\\D}{\\mathrm{d}}$\n",
    "$\\newcommand{\\Ii}{\\I{\\imath}}$\n",
    "$\\newcommand{\\Ij}{\\I{\\jmath}}$\n",
    "$\\newcommand{\\Ik}{\\I{k}}$\n",
    "$\\newcommand{\\VU}{\\V{U}}$\n",
    "$\\newcommand{\\del}{\\boldsymbol{\\nabla}}$\n",
    "$\\newcommand{\\dt}{\\cdot}$\n",
    "$\\newcommand{\\x}{\\times}$\n",
    "$\\newcommand{\\dv}{\\del\\cdot}$\n",
    "$\\newcommand{\\curl}{\\del\\times}$\n",
    "$\\newcommand{\\lapl}{\\nabla^2}$\n",
    "$\\require{color}$ -->"
   ]
  },
  {
   "cell_type": "markdown",
   "metadata": {},
   "source": [
    "## The first few problems will not necessarily require notebook calculations. They are provided here for your convenience as part of the template that is uploaded to Gradescope. Be sure to download the original .ipynb file from Brightspace in order to complete the final problem. {-}\n",
    "\n",
    "## Problem 1 (20 pts) {-}\n",
    "\n",
    "Buoyancy in the anelastic approximation is given by \n",
    "$$B=-g\\frac{\\rho'}{\\overline{\\rho}}$$ \n",
    "where $\\overline{\\rho}=\\overline{\\rho}(z)$ is a base-state density that varies only as a function of height and $\\rho'=\\rho'(x,y,z,t)$ is a deviation from that base state, such that the total density $\\rho$ is given by $\\rho=\\overline{\\rho}+\\rho'$. Similar decompositions can be applied to other state variables. In particular, the base state density is assumed to satisfy hydrostatic balance for a corresponding base state pressure $\\overline{p}$:\n",
    "$$\\frac{\\partial \\overline{p}}{\\partial z}=-\\overline{\\rho}g$$\n",
    "\n",
    "Making use of the equation of state for moist air $p=\\rho R T_v$ where $T_v$ is the virtual temperature and $R$ is the gas constant for dry air, show that buoyancy can be approximated by:\n",
    "$$B \\approx g\\left[\\frac{T_v'}{\\overline{T_v}} - \\frac{p'}{\\overline{p}}\\right]$$\n",
    "\n",
    "Note that the base state also satisfies the equation of state. That is, $\\overline{p}=\\overline{\\rho} R \\overline{T_v}$. However, the perturbation quantities *do not*. That is it is *not* the case that $p'=\\rho' R T_v'$\n",
    "\n",
    "Make sure to show all your work! HINT: Start with the equation of state and substitute in the above decomposition of base state + peturbations for each state variable, and then go from there. HINT \\#2: you can neglect products of perturbation variables (the nonlinear/second-order terms). \n",
    "\n",
    "BONUS (5 pts): Using a similar method, show that $B$ can also be approximated as\n",
    "$$B \\approx g\\left[\\frac{\\theta_v^{\\prime}}{\\overline{\\theta_v}}-\\left(\\frac{R}{c_p}-1\\right) \\frac{p^{\\prime}}{\\overline{p}}\\right]$$\n",
    "\n",
    "\n",
    "## Problem 2 (40 pts) {-}\n",
    "\n",
    "You have a beach ball with an uninflated mass of 1.0 kg (the mass of the plastic skin). You inflate the beach ball to a diameter of 1 m using ambient air such that the pressure, temperature, and water vapor specific humidity of the air inside the beach ball are all the same as the ambient air outside of it. Specifically, the temperature is $T=305$ K, the water vapor specific humidity is $q_v=15$ g kg$^{-1}$, and the pressure is $p=$1015 hPa. Nearby is a swimming pool with water at the same temperature as the air and a density $\\rho_l$=1000 kg m$^{-3}$. You then take the beach ball and immerse it completely under the water (which is no small feat given its immense size; I'll leave it to your imagination how you would accomplish it). For the following problems, assume that the beach ball is perfectly rigid and doesn't change volume when you put it under the water. You can also neglect the very small thickness of the plastic relative to that of the inflated diameter (but *not* its mass).\n",
    "\n",
    "> a) (10 pts) Archimedes principle states that an upward force exists on an object immersed in a fluid, and that this force is equal to the weight of the fluid that is displaced. From this principle and the other information given above, calculate the *net* force on the beach ball: $F_{net} = F_{A} - F_{g}$, where $F_A$ is the Archimedean force, and $F_g$ is the weight of the beach ball (including both that of the air inside of it and the plastic material). NOTE: a minor point of confusion can occur here: in many contexts, it is only this *upward* force resulting from the displacement of the water by the object that is called the \"buoyancy\" ($F_A$ above), while in other contexts, such as in most meteorological applications, the \"buoyancy\" instead refers to the *net* force after the weight of the object itself is subtracted off ($F_{net}$). To avoid confusion here I am simply calling the former version the *Archimedean* force, but you should be able to tell from the context what specifically is meant by \"buoyancy\". \n",
    "\n",
    "> b) (10 pts) Show that the $\\textit{net buoyant acceleration}$ on the beach ball can be written as:\n",
    "$$B=g\\frac{\\rho'}{\\rho_b}$$ where $\\rho' \\equiv \\rho_l-\\rho_b$ and $\\rho_b$ is the *bulk* density of the beach ball (taking into account both the mass of the air inside and the plastic material). NOTE: by \"show\", I mean *derive* this equation from the Archimedean principle and informed by the previous discussion. Be sure to show all your steps! Compare this expression for buoyancy acceleration with the version we found in class during our derivation of the perturbation form of the vertical momentum equation. Then, calculate the magnitude of $B$. \n",
    "\n",
    "> c) (20 pts) CAPE (Convective Available Potential Energy) in the atmosphere is defined as $\\text{CAPE}=\\int_{z_{LFC}}^{z_{EL}} B dz$, where $z_{LFC}$ and $z_{EL}$ are the heights of the LFC and EL, respectively, and $B$ is the buoyancy of a hypothetical lifted air parcel that, in general, varies as a function of height. For a *constant* $B$ with height, this simplifies to $\\text{CAPE}=B\\Delta z$ where $\\Delta z=z_{EL} - z_{LFC}$. A CAPE of 5000 J/kg is considered on the high end and is supportive of intense convective updrafts and an enhanced threat of severe hazards, and the distance $\\Delta z$ from the LFC to EL can be several km. If we treat our beach ball to be the \"parcel\" and the swimming pool to be the \"atmosphere\" the parcel is being lifted through we can calculate an analogous \"CAPE\" that tells us the potential energy that may be available to accelerate our beach ball upward over a certain distance $\\Delta z$. \n",
    "\n",
    ">> i. (10 pts) To \"experience\" a CAPE of 5000 J/kg, how far would our beach ball have to rise upward through the swimming pool (you can assume that the beach ball is entirely immersed the whole time)?\n",
    "\n",
    ">> ii. (10 pts) Assuming that all of this potential energy is converted to the kinetic energy of the rising beach ball, how fast would the beach ball be going after rising this distance? Does this seem realistic to you? Discuss."
   ]
  },
  {
   "cell_type": "code",
   "execution_count": null,
   "metadata": {
    "ExecuteTime": {
     "end_time": "2019-09-05T16:43:56.106357Z",
     "start_time": "2019-09-05T16:43:55.710518Z"
    }
   },
   "outputs": [],
   "source": [
    "# This cell imports the required modules for the notebook\n",
    "import matplotlib.pyplot as plt\n",
    "%matplotlib inline\n",
    "from IPython.display import display,clear_output\n",
    "import time as Time\n",
    "import math, os, sys\n",
    "import numpy as np\n",
    "import scipy.fftpack\n",
    "import matplotlib\n",
    "import matplotlib.cm as cm\n",
    "matplotlib.rcParams.update({'font.size': 22})\n",
    "from IPython.core.display import HTML\n",
    "import urllib.request\n",
    "\n",
    "# Temporary solution. Will make this an installable package in the future.\n",
    "parent_dir = os.path.abspath('/depot/atmsclass/apps/EAPS539/')\n",
    "# parent_dir = os.path.abspath('/Users/dawson29/Teaching/EAPS_539/')\n",
    "# the parent_dir could already be there if the kernel was not restarted,\n",
    "# and we run this cell again\n",
    "if parent_dir not in sys.path:\n",
    "    sys.path.append(parent_dir)\n",
    "from modules.model_functions import *\n",
    "from modules.plotting import *\n",
    "%load_ext autoreload\n",
    "%autoreload 2"
   ]
  },
  {
   "cell_type": "markdown",
   "metadata": {},
   "source": [
    "## A simple 2D model of buoyant convection under the Boussinesq approximation {-}\n",
    "\n",
    "Under the Boussinesq approximation, and neglecting friction and Coriolis forces, the perturbation form of the equations of motion and the continuity equation in the x-z plane can be written as:\n",
    "\n",
    "$$\n",
    "\\frac{\\partial u}{\\partial t}+u \\frac{\\partial u}{\\partial x}+w \\frac{\\partial u}{\\partial z}=-\\frac{1}{\\rho_0}\\frac{\\partial p^{\\prime}}{\\partial x}\n",
    "$$\n",
    "\n",
    "$$\n",
    "\\frac{\\partial w}{\\partial t}+u \\frac{\\partial w}{\\partial x}+w \\frac{\\partial w}{\\partial z}=-\\frac{\\partial p^{\\prime}}{\\partial z}+b\n",
    "$$\n",
    "\n",
    "$$\n",
    "\\frac{\\partial u}{\\partial x}+\\frac{\\partial w}{\\partial z}=0\n",
    "$$\n",
    "\n",
    "\n",
    "where $b\\equiv-g\\frac{\\rho^{\\prime}}{\\rho_0}$, $p\\equiv\\overline{p}(z)+p^{\\prime}(x,y,z,t)$, $\\rho\\equiv\\overline{\\rho}+\\rho^{\\prime}(x,y,z,t)$ and the base state pressure and density are assumed to be in hydrostatic balance:\n",
    "\n",
    "$$\n",
    "\\frac{\\partial \\overline{p}}{\\partial z}=-\\rho_0 g\n",
    "$$\n",
    "\n",
    "Recall that under the Boussinesq approximation, variations in density are neglected *except* where they appear in the buoyancy term in the vertical momentum equation, and thus the total density $\\rho$ is replaced with the constant reference density $\\rho_0$ everywhere it appears in the above equations.\n",
    "\n",
    "To close the system of equations, we require a conservation equation for the buoyancy $b$ (which amounts to a conservation equation for the perturbation density $\\rho^{\\prime}$, since both $g$ and $\\rho_0$ are constants). In our simple model, there is no friction/diffusion (although we can turn it on if we want), and no diabatic heating or other sources or sinks that can change the density of a parcel. Therefore, under these conditions, we simply have\n",
    "\n",
    "$\\frac{\\mathrm{d} b}{\\mathrm{d} t}=0$ such that:\n",
    "$$\n",
    "\\frac{\\partial b}{\\partial t}=-u \\frac{\\partial b}{\\partial x}-w \\frac{\\partial b}{\\partial z}\n",
    "$$\n",
    "\n",
    "Note also that I have not made an *explicit* partition of $u$ and $w$ into base state + perturbations. That's because in this simple model, we are simply taking the base state to be at rest. That is, $\\overline{u}=\\overline{w}=0$ so that $u=u^{\\prime}(x,y,z,t)$ and $v=v^{\\prime}(x,y,z,t)$. In other scenarios, however, we may wish to have a nonzero horizontal base state wind field that varies only as a function of height, such as when we want to examine the interaction of a developing convective updraft in an environment with large-scale vertical wind shear. We'll return to this later in the course.\n",
    "\n",
    "For the purposes of simplifying the notation even further, we can define a new \"pseudo-pressure\" $P\\equiv\\frac{p^{\\prime}}{\\rho_0}$ to arrive at the following set of equations. This final set that the model uses\n",
    "does not *explicitly* include density anywhere, but it is still there; it is only \"hidden\" for mathematical/computational convenience.\n",
    "\n",
    "$$\n",
    "\\frac{\\partial u}{\\partial t}+u \\frac{\\partial u}{\\partial x}+w \\frac{\\partial u}{\\partial z}=-\\frac{\\partial P}{\\partial x}\n",
    "$$\n",
    "\n",
    "$$\n",
    "\\frac{\\partial w}{\\partial t}+u \\frac{\\partial w}{\\partial x}+w \\frac{\\partial w}{\\partial z}=-\\frac{\\partial P}{\\partial z}+b\n",
    "$$\n",
    "\n",
    "$$\n",
    "\\frac{\\partial u}{\\partial x}+\\frac{\\partial w}{\\partial z}=0\n",
    "$$\n",
    "\n",
    "$$\n",
    "\\frac{\\partial b}{\\partial t}=-u \\frac{\\partial b}{\\partial x}-w \\frac{\\partial b}{\\partial z}\n",
    "$$\n",
    "\n",
    "Finally, I'll note here in passing that for this model, we are assuming that the base state density is constant everywhere. More generally, however, we can choose to use a base state with a density that varies in height to allow for stratification while *still making use of the Boussinesq approximation*, provided that the deviations from a given constant reference $rho_0$ are still not too large (which would occur if vertical excursions of parcels aren't too large). In such a case we would have an additional term in the conservation equation for $b$ that represents this stratification, and the perturbation density would be interpreted as a deviation from $\\overline{\\rho}$ instead of $\\rho_0$, while the buoyancy term would still have $\\rho_0$ in its denominator. We will examine this case in future lectures/assignments when we deal with static instability, but don't worry about it for now. "
   ]
  },
  {
   "cell_type": "markdown",
   "metadata": {},
   "source": [
    "## Set the grid and initialize the fields.  {-}\n",
    "\n",
    "**The vertical direction is here labeled as z, as is the convention in meteorology for a direction aligned with gravity.** \n",
    "\n",
    "We will be using a so-called \"staggered\" or \"Arakawa C-grid\", where the u and w velocity components are offset\n",
    "by half a grid point from the pressure grid points in the x- and z-directions, respectively. It looks something like this:\n",
    "\n",
    "<pre>\n",
    "-w-w-\n",
    "upupu\n",
    "-w-w-\n",
    "upupu\n",
    "-w-w-\n",
    "</pre>\n",
    "\n",
    "The dashes in the above diagram are the corners of the grid cells.\n",
    "\n",
    "We will select a grid size that allows the Poisson pressure solver to be fast. If you change the grid size below (by modifying Nx and/or Nz), make sure that it satisfies the following equation:\n",
    "\n",
    "2<sup>n</sup> +1 for `Nx` and `Nz` seems to be ideal for the U-grid.\n"
   ]
  },
  {
   "cell_type": "code",
   "execution_count": null,
   "metadata": {
    "ExecuteTime": {
     "end_time": "2019-09-05T16:53:54.516385Z",
     "start_time": "2019-09-05T16:53:54.510763Z"
    }
   },
   "outputs": [],
   "source": [
    "# Set up the grid structure for the *corners* of the staggered grid (called the U-grid by Prof. Fiedler).\n",
    "Nx = 129 # number of x grid points for U\n",
    "Nz = 129  # number of z grid points for W\n",
    "xmax = 1000. # 0 <= x <= xmax (units of m)\n",
    "zmax = 1000. # 0 <= z <= zmax (units of m)\n",
    "dx = xmax / (Nx - 1.) # horizontal grid spacing (m)\n",
    "dz = zmax / (Nz - 1.) # vertical grid spacing (m)\n",
    "x1U = np.linspace(0, xmax, Nx) # 1-D array of grid locations in the x-direction\n",
    "z1U = np.linspace(0, zmax, Nz) # 1-D array of grid locations in the z-direction\n",
    "xU, zU = np.meshgrid(x1U, z1U) # Use numpy meshgrid to create 2D arrays out of the above 1-D arrays\n",
    "\n",
    "# Now, using the corner locations, set up the x and z locations of the grid points for the different variables:\n",
    "xp = U_to_p(xU) # x-locations of the pressure grid\n",
    "zp = U_to_p(zU) # z-locations of the pressure grid\n",
    "xw = 0.5*( xU[:,:-1] + xU[:,1:] ) # x-locations of the w points\n",
    "zw = 0.5*( zU[:,:-1] + zU[:,1:] ) # z-locations of the w points\n",
    "xb = xw # x-locations of the b points (same as the w points)\n",
    "zb = zw # z-locations of the b points (same as the w points)\n",
    "xu = 0.5*( xU[:-1,:] + xU[1:,:] ) # x-locations of the u points\n",
    "zu = 0.5*( zU[:-1,:] + zU[1:,:] ) # z-locations of the u points"
   ]
  },
  {
   "cell_type": "code",
   "execution_count": null,
   "metadata": {
    "ExecuteTime": {
     "end_time": "2019-09-05T16:53:59.825734Z",
     "start_time": "2019-09-05T16:53:59.821818Z"
    }
   },
   "outputs": [],
   "source": [
    "# An array of the inverse Laplacian, \n",
    "# to be applied to the Fourier components of the r.h.s. of the Poisson equation that solves for the pressure field.\n",
    "# This is calculated once, and used throughout the notebook.\n",
    "invlapl = poisson_p_fft_prep(Nx-1, Nz-1, dx, dz, lapl='discrete') # lapl='calculus' or lapl='discrete'"
   ]
  },
  {
   "cell_type": "markdown",
   "metadata": {},
   "source": [
    "### In the next cell we are initializing a dictionary that will be used to store the results of each experiment we will be running below. It's important to *only* execute this cell once. When you run a new simulation, start with cell that initializes the buoyancy and velocity fields below and go from there. If instead you start from here or earlier, you will reset the dictionary to an empty one and lose all the progress you made! So be careful!  {-}"
   ]
  },
  {
   "cell_type": "code",
   "execution_count": null,
   "metadata": {},
   "outputs": [],
   "source": [
    "# For now, we make this an empty dictionary. It will be filled with the height of the maximum buoyancy\n",
    "# as a function of time for each experiment you run below. \n",
    "# Then you will use the dictionary to make some plots to compare the results of the simulations.\n",
    "bmax_height_dict = {}"
   ]
  },
  {
   "cell_type": "markdown",
   "metadata": {},
   "source": [
    "## Specify initial buoyancy and velocity fields: {-}\n",
    "\n",
    "### (NOTE: For Problem \\#3 (see further down) THIS CELL is where you will start to re-execute all the cells for each run of the model) \n",
    "\n",
    "The following cell initializes the warm bubble and sets the initial velocity to zero everywhere. Each time you restart the simulation you will start again from this cell. Be sure to change the name of the experiment if you\n",
    "change something here! It will be used as the key in the dictionary that stores the results of the buoyancy max location."
   ]
  },
  {
   "cell_type": "code",
   "execution_count": null,
   "metadata": {
    "ExecuteTime": {
     "end_time": "2019-09-05T17:10:40.873233Z",
     "start_time": "2019-09-05T17:10:40.864094Z"
    },
    "scrolled": false
   },
   "outputs": [],
   "source": [
    "# This value is the name of the experiment. IMPORTANT: every time you change something here, change the name\n",
    "# of the experiment so that the above dictionary can make a new entry for that experiment. If you don't do this\n",
    "# you will end up overwriting the values in the dictionary for the original experiment instead of adding a new \n",
    "# entry\n",
    "exp_name = \"xrad1\"\n",
    "# Add the experiment name as a key to the bmax_loc_dict dictionary and set the value to None.\n",
    "# This will be replaced with a tuple containing the times and locations of the height of the maximum buoyancy \n",
    "# in the bubble for each experiment as we run them below.\n",
    "bmax_height_dict[exp_name] = None\n",
    "\n",
    "xcen= 500. # the x-location in meters relative to the left edge of the domain of the center of the warm bubble\n",
    "zcen= 500. # the z-location in meters relative to the bottom edge of the domain of the center of the warm bubble\n",
    "\n",
    "# The radius of the the bubble in the x- and z- directions in meters. Setting xrad=zrad will generate \n",
    "# a circular region\n",
    "# IMPORTANT: For Problem #3 you will be changing xrad to different values, BUT LEAVE zrad ALONE.\n",
    "xrad = 100.\n",
    "zrad = 100.\n",
    "# The rb array contains the values of the square of the distance of each grid point from the center, \n",
    "# scaled by the bubble radius in the x- and z-directions\n",
    "rb = ((xb - xcen) / xrad)**2. + ((zb - zcen) / zrad)**2.\n",
    "\n",
    "# bi, ui, and wi are the *initial* buoyancy and velocity component fields, respectively.\n",
    "# Uses a cosine function to decrease from a maximum of b = 1 at the center to b=0 at the outer edge given by rb=1\n",
    "bi = np.where(rb < 1., .5 * (1. + np.cos(np.pi * rb)), 0.) \n",
    "# u and w are set to zero everywhere for starters\n",
    "ui = 0. * xu\n",
    "wi = 0. * xw"
   ]
  },
  {
   "cell_type": "markdown",
   "metadata": {},
   "source": [
    "## Compute the *initial* pressure field from the buoyancy field.  {-}\n",
    "\n",
    "We showed in class that, under the Boussinesq approximation, we could derive an equation for the Laplacian of the (perturbation) pressure field, with terms on the RHS that contained the dynamic and buoyant contributions. In the context of this model, the equation to be solved is (in vector form): \n",
    "\n",
    "$$\n",
    "\\nabla^{2} P = -\\nabla \\cdot(\\mathbf{v} \\cdot \\nabla \\mathbf{v}) + \\frac{\\partial b}{\\partial z}\n",
    "$$\n",
    "\n",
    "This is an elliptic partial differential equation, called a *Poisson* equation.\n",
    "Now, recall from class that we derived this equation by taking $\\nabla \\cdot$ the momentum equation and assuming that the flow was nondivergent (i.e. $\\nabla \\cdot \\mathbf{v}=0$). This means that any pressure field that is a solution to this equation implicitly assumes that the associated velocity field is *nondivergent*. Without getting into the gory details, the incompressible numerical model we are using here solves a form of the above Poisson equation by explicitly *enforcing* that the velocity field obeys $\\nabla \\cdot \\mathbf{v}=0$ at every time step. The method used is the famous Fast Fourier Transform, in case you are wondering."
   ]
  },
  {
   "cell_type": "code",
   "execution_count": null,
   "metadata": {
    "ExecuteTime": {
     "end_time": "2019-09-05T17:10:42.691361Z",
     "start_time": "2019-09-05T17:10:42.680432Z"
    }
   },
   "outputs": [],
   "source": [
    "# Use the initial buoyancy and acceleration to test that\n",
    "# the calculation of pressure enforces non-divergence. We are going to pretend we are stepping the model forward\n",
    "# one time step just to make sure that everything is working correctly.\n",
    "dwdt = bi.copy() # At the initial time, the vertical acceleration comes only from the buoyancy field\n",
    "dudt = 0. * xu # The initial horizontal acceleration is zero everywhere (can you see why?)\n",
    "### next three lines are also in the forecast loop\n",
    "lapl_of_p = divergence(dudt, dwdt, dx, dz) # Compute the Laplacian of the pressure field which is also\n",
    "                                           # the divergence of the velocity field *prior* to accounting for the\n",
    "                                           # pressure field\n",
    "p = poisson_p_fft(lapl_of_p, invlapl) # Solve for pressure using the Fast Fourier Transform method\n",
    "p -= p.mean() # This step subtracts the domain mean value of the pressure field from the computed pressure\n",
    "              # at each point. This is done mainly for cosmetic/numerical reasons since we really only need\n",
    "              # the gradient of the pressure at each point for the model.\n",
    "####\n",
    "# Compute the horizontal and vertical PGF from the new pressure field and add to the horizontal and vertical\n",
    "# acceleration terms\n",
    "dudt[:, 1:-1] += (p[:, :-1] - p[:, 1:]) / dx\n",
    "dwdt[1:-1, :] += (p[:-1, :] - p[1:, :]) / dz\n",
    "# Compute the divergence of the velocity field after accounting for the pressure gradient forces\n",
    "div_after = divergence(dudt, dwdt, dx, dz)\n",
    "print(\"div before pgf:\", (lapl_of_p**2).mean())\n",
    "# If everything is working, the following should be very close to zero\n",
    "print(\"div after pgf:\", (div_after**2).mean())"
   ]
  },
  {
   "cell_type": "markdown",
   "metadata": {},
   "source": [
    "## Get things ready for running the model and showing the animation {-}"
   ]
  },
  {
   "cell_type": "code",
   "execution_count": null,
   "metadata": {
    "ExecuteTime": {
     "end_time": "2019-09-05T17:21:43.454022Z",
     "start_time": "2019-09-05T17:21:43.444209Z"
    },
    "scrolled": false
   },
   "outputs": [],
   "source": [
    "# This cell prepares the initial figure for the animation\n",
    "\n",
    "# Set outdir = to a directory name, if you want to save png, = None if not. This will create a subdirectory \n",
    "# inside the directory where you are running this notebook and will save png files of each step of the \n",
    "# animation to it.\n",
    "outdir = 'blob' \n",
    "if outdir and not os.path.exists(outdir): \n",
    "    os.makedirs(outdir)\n",
    "\n",
    "vd = 4 # vector skip in arrow plots (vd=1 would plot all arrows, vd=4 plots every 4th arrow, etc.)\n",
    "# buoylevs = np.linspace(-.05,1.05,12)\n",
    "# buoylevs[0] = -.25  # extend level to prevent advection errors going off the scale\n",
    "# buoylevs[-1] = 1.25 # extend level to prevent advection errors going off the scale\n",
    "\n",
    "# Set the contour levels for the buoyancy and perturbation pressure\n",
    "bintv = 0.05\n",
    "buoylevs = np.arange(0.0, 1.+bintv, bintv) # np.arange(0.0, 1.05, 0.05)\n",
    "print('contour levels for buoyancy:', buoylevs)\n",
    "\n",
    "preslevs = np.linspace(-1000., 1000., 201) # np.linspace(-.4, .4, 81)\n",
    "print('contour levels for pressure:', preslevs)\n",
    "\n",
    "myfig = plt.figure(figsize=(10, 10), facecolor='lightgrey')\n",
    "ax1 = myfig.add_axes([0.1, 0.1, 0.8, .8], frameon=False) # contour axes\n",
    "# ax2 = myfig.add_axes([0.0, 0.1, 0.08, .8]) # for colorbar\n",
    "ax2 = myfig.add_axes([0.9, 0.1, 0.08, 0.8])\n",
    "cbar_exists = False\n",
    "ax1.axis('off')\n",
    "ax2.axis('off')\n",
    "plt.setp(ax1.get_xticklabels(), visible=False)\n",
    "plt.close()\n",
    "\n",
    "# The following determines the specific fields of pressure and buoyancy that are shown on the plots\n",
    "# total for the full pressure field, \n",
    "# \"buoyant\" for the buoyant pressure field, and \n",
    "# \"dynamic\" for the dynamic pressure field\n",
    "p_plot='total' \n",
    "\n",
    "# \"standard\" for the standard or Archimedean buoyancy. \n",
    "# \"effective\" for the effective buoyancy/buoyant contribution\n",
    "b_plot='standard'\n",
    "\n",
    "# Create a dictionary to hold the plotting parameters. This dictionary will be passed to the plotting function\n",
    "# below\n",
    "plot_dict = {\n",
    "    \"fig\": myfig,\n",
    "    \"axes\": [ax1, ax2], # A list, in case we want to add more later...\n",
    "    \"vd\": vd,\n",
    "    \"buoylevs\": buoylevs,\n",
    "    \"preslevs\": preslevs,\n",
    "    \"cbar_exists\": cbar_exists,\n",
    "    \"p_plot\": p_plot,\n",
    "    \"b_plot\": b_plot,\n",
    "    \"buoy_cmap\": cm.Reds, # Choose a pretty colormap of your choice here for the buoyancy\n",
    "    \"pres_color\": \"purple\", # Color for pressure contours\n",
    "    \"arrow_color\": \"blue\", # Color for the wind vectors\n",
    "}"
   ]
  },
  {
   "cell_type": "markdown",
   "metadata": {},
   "source": [
    "## Set parameters for the numerical solution: {-}"
   ]
  },
  {
   "cell_type": "code",
   "execution_count": null,
   "metadata": {
    "ExecuteTime": {
     "end_time": "2019-09-05T17:21:49.297646Z",
     "start_time": "2019-09-05T17:21:49.292640Z"
    },
    "scrolled": true
   },
   "outputs": [],
   "source": [
    "# Execute this cell, but I suggest not changing these parameters unless you know what you are doing :)\n",
    "speedmax = 30.0 # estimated maximum speed that will occur. Probably don't mess with this\n",
    "cfl = 1. # .3 # if parcel moves at speedmax, fraction of dx it is allowed to traverse \n",
    "dt = cfl*dx/speedmax # restrict dt by cfl choice\n",
    "# dt = 0.001\n",
    "print(dt)\n",
    "div_reduce = 0.\n",
    "aborder = 3 # Adams-Bashforth time integration scheme order: 1, 2 or 3\n",
    "# Leave this at zero for now. It sets the amount of additional diffusion in the model (which mimics\n",
    "# mixing from turbulence or molecular mixing and tends to smooth out the fields over time)\n",
    "diffusion_coef = 0. # 1.e-5 # also try 1.e-4 ?\n",
    "\n",
    "# expt = '%d,%d,%4.2f,%7.5f' % (Nx, Nz, cfl, diffusion_coef)\n",
    "# print(expt)\n",
    "# plot_dict[\"expt\"] = expt # Add experiment string to the plotting dictionary, since it will be used to annotate\n",
    "#                          # the plot"
   ]
  },
  {
   "cell_type": "markdown",
   "metadata": {},
   "source": [
    "### Ok, initialize the model with zero wind everywhere and a warm bubble using the geometry specified above {-}"
   ]
  },
  {
   "cell_type": "code",
   "execution_count": null,
   "metadata": {
    "ExecuteTime": {
     "end_time": "2019-09-05T17:23:18.106616Z",
     "start_time": "2019-09-05T17:23:17.836468Z"
    },
    "scrolled": false
   },
   "outputs": [],
   "source": [
    "# Set initial winds to zero, initial pressure to zero (including buoyant and dynamic components), and initial\n",
    "# buoyancy to zero except for where the warm bubble is. Then, make a plot of the initial conditions.\n",
    "u = 0. * xu\n",
    "w = 0. * xw\n",
    "p = 0.*  xp\n",
    "p_b = 0. * xp\n",
    "p_d = 0. * xp\n",
    "b = bi.copy()\n",
    "# Dummy array for intermediate calculations\n",
    "dummy = np.zeros_like(xu)\n",
    "\n",
    "# dudta = [None]*3\n",
    "# dwdta = [None]*3\n",
    "# dbdta = [None]*3 \n",
    "\n",
    "# Set initial local accelerations and buoyancy tendencies to zero everywhere\n",
    "dudta = [0.] * 3\n",
    "dwdta = [0.] * 3\n",
    "dbdta = [0.] * 3 \n",
    "\n",
    "# This keeps track of the current time step and the nondimensional time since the start\n",
    "nstep = 0\n",
    "t = 0. \n",
    "\n",
    "# Calculate the initial values of the total, buoyant, and dynamic components of the pressure perturbation fields\n",
    "div_vel = divergence(u, w, dx, dz) # compute the initial velocity divergence\n",
    "# Average w to u points, and u to w points. Needed for advection calculation\n",
    "wu = w_to_u(w)\n",
    "uw = u_to_w(u)\n",
    "# Calculate the advection terms for the b, u, and w equations.\n",
    "dbdt = advect(b, uw, w, dx, dz) \n",
    "dudt = advect(u, u, wu, dx, dz)\n",
    "dwdt = advect(w, uw, w, dx, dz) + b\n",
    "# Add artificial diffusion if wanted. By default this isn't computed because we set\n",
    "# diffusion_coef to 0.0 above\n",
    "if diffusion_coef > 0.0:\n",
    "    dbdt += diffusion_coef * laplacian(b, dx, dz, il=0, ir=-1)\n",
    "    dudt += diffusion_coef * laplacian(u, dx, dz, jb=0, jt=-1)\n",
    "    dwdt += diffusion_coef * laplacian(w, dx, dz, il=0, ir=-1)\n",
    "# Calculate the divergence of the RHS of the pressure Poisson equation \n",
    "# that results from the addition of the advection terms\n",
    "div_accel = divergence(dudt, dwdt, dx, dz)\n",
    "div_b = divergence(dummy, b, dx, dz)\n",
    "# Solve the pressure Poisson equation\n",
    "p = poisson_p_fft(div_accel + div_reduce * div_vel / dt, invlapl)\n",
    "p -= p.mean()\n",
    "# Do the same for the buoyancy component of the pressure\n",
    "p_b = poisson_p_fft(div_b, invlapl)\n",
    "p_b -= p_b.mean()\n",
    "# The dynamic component can just be solved by subtracting p_b from p, since we know p = p_b + p_d\n",
    "# No need to solve the Poisson equation for it, but we could if we wanted to check its accuracy.\n",
    "p_d = p - p_b\n",
    "\n",
    "# Ok, now stuff a bunch of parameters into dictionaries for the sake of organization and for passing to\n",
    "# the plotting function\n",
    "\n",
    "# The following creates a dictionary that holds all the grid-related parameters and variables. These were\n",
    "# computed earlier:\n",
    "grid_dict = {\n",
    "    \"Nx\": Nx,\n",
    "    \"Nz\": Nz,\n",
    "    \"xmax\": xmax,\n",
    "    \"zmax\": zmax,\n",
    "    \"xp\": xp,\n",
    "    \"zp\": zp,\n",
    "    \"xb\": xb,\n",
    "    \"zb\": zb,\n",
    "    \"dx\": dx,\n",
    "    \"dz\": dz,\n",
    "}\n",
    "# Create a dictionary to hold all the model state variables (pressure, wind, and buoyancy) as well as \n",
    "# the current time and other misc quantities related to the model integration\n",
    "model_dict = {\n",
    "    \"p\": p,\n",
    "    \"b\": b,\n",
    "    \"p_b\": p_b,\n",
    "    \"p_d\": p_d,\n",
    "    \"u\": u,\n",
    "    \"w\": w,\n",
    "    \"t\": t,\n",
    "    \"speedmax\": speedmax,\n",
    "}"
   ]
  },
  {
   "cell_type": "code",
   "execution_count": null,
   "metadata": {},
   "outputs": [],
   "source": [
    "# Call the plotting function that does all the work to generate a single frame of the animation. It takes\n",
    "# each of the dictionaries as defined above and unpacks what is needed inside the function.\n",
    "# Here we are doing it for the initial time, which will show up in the output cell below\n",
    "doplot(grid_dict, model_dict, plot_dict)\n",
    "# Update the plotting canvas for the next frame\n",
    "update_plot(plot_dict[\"fig\"])\n",
    "# Save the frame to a PNG if desired\n",
    "if outdir:\n",
    "    save_plot(model_dict[\"t\"], outdir, plot_dict[\"fig\"])"
   ]
  },
  {
   "cell_type": "markdown",
   "metadata": {},
   "source": [
    "## Run the model: {-}\n"
   ]
  },
  {
   "cell_type": "code",
   "execution_count": null,
   "metadata": {
    "ExecuteTime": {
     "end_time": "2019-09-05T17:23:21.269868Z",
     "start_time": "2019-09-05T17:23:21.266770Z"
    }
   },
   "outputs": [],
   "source": [
    "tstop = 30. # Time to stop the model (s)\n",
    "dplot = 1. # time between plots (s)\n",
    "tplot = t # time for next plot "
   ]
  },
  {
   "cell_type": "code",
   "execution_count": null,
   "metadata": {
    "ExecuteTime": {
     "end_time": "2019-09-05T17:23:51.062347Z",
     "start_time": "2019-09-05T17:23:21.875296Z"
    },
    "scrolled": false
   },
   "outputs": [],
   "source": [
    "# The following turns on the computation and plotting of the location of the maximum buoyancy\n",
    "# You'll need this for one of the problems\n",
    "bmax_plot = True\n",
    "\n",
    "# Dummy array for intermediate calculations\n",
    "dummy = np.zeros_like(xu)\n",
    "\n",
    "# Some lists for storing the magnitude and height of the point of maximum buoyancy for each time\n",
    "bmax_list = []\n",
    "bmax_height_list = []\n",
    "t_list = []\n",
    "# This is the main loop that integrates the model forward one time step at a time\n",
    "while t < tstop - dt/2.:\n",
    "    # Increment the time step counter\n",
    "    nstep += 1\n",
    "    abnow = float(min(nstep, aborder)) # related to the time-stepping scheme\n",
    "    \n",
    "    div_vel = divergence(u, w, dx, dz) # compute the initial velocity divergence\n",
    "    # Average w to u points, and u to w points. Needed for advection calculation\n",
    "    wu = w_to_u(w)\n",
    "    uw = u_to_w(u)\n",
    "    # Calculate the advection terms for the b, u, and w equations.\n",
    "    dbdt = advect(b, uw, w, dx, dz) \n",
    "    dudt = advect(u, u, wu, dx, dz)\n",
    "    dwdt = advect(w, uw, w, dx, dz) + b\n",
    "    # Add artificial diffusion if wanted. By default this isn't computed because we set\n",
    "    # diffusion_coef to 0.0 above\n",
    "    if diffusion_coef > 0.0:\n",
    "        dbdt += diffusion_coef * laplacian(b, dx, dz, il=0, ir=-1)\n",
    "        dudt += diffusion_coef * laplacian(u, dx, dz, jb=0, jt=-1)\n",
    "        dwdt += diffusion_coef * laplacian(w, dx, dz, il=0, ir=-1)\n",
    "    # Calculate the divergence of the RHS of the pressure Poisson equation \n",
    "    # that results from the addition of the advection terms\n",
    "    div_accel = divergence(dudt, dwdt, dx, dz)\n",
    "    div_b = divergence(dummy, b, dx, dz)\n",
    "    # Solve the pressure Poisson equation\n",
    "    p = poisson_p_fft(div_accel + div_reduce * div_vel / dt, invlapl)\n",
    "    p -= p.mean()\n",
    "    # Do the same for the buoyancy component of the pressure\n",
    "    p_b = poisson_p_fft(div_b, invlapl)\n",
    "    p_b -= p_b.mean()\n",
    "    # The dynamic component can just be solved by subtracting p_b from p, since we know p = p_b + p_d\n",
    "    # No need to solve the Poisson equation for it, but we could if we wanted to check its accuracy.\n",
    "    p_d = p - p_b\n",
    "    # Now that we have the pressure field, we can solve for the pressure gradient terms and add them to the\n",
    "    # net acceleration in the x- and z-directions\n",
    "    dudt[:,1:-1] += (p[:,:-1] - p[:,1:]) / dx\n",
    "    dwdt[1:-1,:] += (p[:-1,:] - p[1:,:]) / dz\n",
    "    \n",
    "    # The following is some computational bookkeeping for the time-stepping scheme that is used (Adams-Bashforth)\n",
    "    dudta = [dudt.copy()] + dudta[:-1]\n",
    "    dwdta = [dwdt.copy()] + dwdta[:-1]\n",
    "    dbdta = [dbdt.copy()] + dbdta[:-1]\n",
    "    \n",
    "    u += float(dt) * ab_blend(dudta, abnow)\n",
    "    w += float(dt) * ab_blend(dwdta, abnow)\n",
    "    b += float(dt) * ab_blend(dbdta, abnow)\n",
    "    t = t + dt\n",
    "    \n",
    "    # Update the model dictionary\n",
    "    model_dict['p'] = p\n",
    "    model_dict['p_b'] = p_b\n",
    "    model_dict['p_d'] = p_d\n",
    "    model_dict['u'] = u\n",
    "    model_dict['w'] = w\n",
    "    model_dict['b'] = b\n",
    "    model_dict['t'] = t\n",
    "    \n",
    "    # Store the maximum buoyancy in the domain\n",
    "    bmax_list.append(b.max())\n",
    "    # Find the location in the domain of the maximum buoyancy and store it. You will be analyzing this below\n",
    "    bmax_idx = np.unravel_index(b.argmax(), b.shape)\n",
    "    # We will use the x and y locations to plot here for the animation\n",
    "    bmax_loc = (xb[0, bmax_idx[1]], zb[bmax_idx[0], 0])\n",
    "    # But, we just want to store the height for later analysis\n",
    "    bmax_height = bmax_loc[1]\n",
    "    bmax_height_list.append(bmax_height)\n",
    "    t_list.append(t)\n",
    "    \n",
    "    # This is a sanity check to make sure the model doesn't blow up. If it does, we stop what we are doing and\n",
    "    # can assess the carnage.\n",
    "    assert u.max() < 2.e10, 'kaboom!'\n",
    "    \n",
    "    # Plot the next frame in the animation\n",
    "    if t > tplot - dt/2. : \n",
    "        # cbar_exists=True\n",
    "        # Call the plotting function that does all the work to generate a single frame of the animation. It takes\n",
    "        # each of the dictionaries as defined above and unpacks what is needed inside the function.\n",
    "        doplot(grid_dict, model_dict, plot_dict)\n",
    "        ax = plot_dict['axes'][0]\n",
    "        # Plots a yellow dot where the maximum buoyancy is located\n",
    "        if bmax_plot:\n",
    "            ax.plot(bmax_loc[0], bmax_loc[1], 'yo')\n",
    "        # Update the plotting canvas for the next frame\n",
    "        update_plot(plot_dict[\"fig\"])\n",
    "        # Save the frame to a PNG if desired\n",
    "        if outdir:\n",
    "            save_plot(model_dict[\"t\"], outdir, plot_dict[\"fig\"])\n",
    "        tplot = min(tstop, tplot + dplot)\n",
    "\n",
    "# Ok, now store the times and heights of the maximum buoyancy in the dictionary entry for this experiment.\n",
    "# The value associated with the exp_name key is a tuple containing the list of times and a list of \n",
    "# the corresponding heights\n",
    "bmax_height_dict[exp_name] = (t_list, bmax_height_list)\n",
    "        \n",
    "plt.close() "
   ]
  },
  {
   "cell_type": "markdown",
   "metadata": {},
   "source": [
    "## Now it's your turn! {-}\n",
    "\n",
    "First, execute the following cell. It makes a quick-and-dirty plot of the height of the maximum buoyancy for the experiment we just performed (called \"xrad1\"). This can also be seen visually by tracking the yellow dot in the animation\n",
    "above. (Note that the dot may \"wiggle\" around from side to side a bit. That's due to some numerical noise and can be ignored for the purposes of this exercise.) \n",
    "\n",
    "The following plot just gives an example to get you started. See below for instructions on making your own plots for credit."
   ]
  },
  {
   "cell_type": "code",
   "execution_count": null,
   "metadata": {},
   "outputs": [],
   "source": [
    "# First extract the times and heights from the dictionary for this experiment\n",
    "t_list, bmax_height_list = bmax_height_dict[exp_name]\n",
    "\n",
    "fig, ax = plt.subplots(figsize=(12, 6))\n",
    "ax.plot(t_list, bmax_height_list)\n",
    "ax.set_title('Height of maximum buoyancy vs. time for {}'.format(exp_name))"
   ]
  },
  {
   "cell_type": "markdown",
   "metadata": {},
   "source": [
    "## Problem 3 (40 pts) {-}\n",
    "\n",
    "Your task here is to test the impact of changing the width of the initial bubble, while keeping the depth the same. So, go back up to the cell where you initialize the thermal bubble and change the value of xrad to the following values (*one at a time*): [200, 400, 600, 800] VERY IMPORTANT: Make sure you also change the experiment name for each (i.e. you can just use [xrad2, xrad4, xrad6, xrad8]), otherwise you will end up just overwriting the values from the original experiment each time. Then go through and run each cell up to and including the animation loop to run the simulation for the given value of xrad. So, in the end you will have 5 experiments, including the original one. Then, to make sure you have done everything correctly, execute the following cell and note the output. If you did it right, you should see the printout of the dictionary having a separate entry for each experiment you ran. It will look something like this:\n",
    "\n",
    "    {'xrad1': ([list of times],\n",
    "          [list of heights]),\n",
    "     'xrad2': ([list of times],\n",
    "          [list of heights]),\n",
    "     etc., etc.}"
   ]
  },
  {
   "cell_type": "code",
   "execution_count": null,
   "metadata": {},
   "outputs": [],
   "source": [
    "import pprint\n",
    "pprint.pprint(bmax_height_dict, compact=True)"
   ]
  },
  {
   "cell_type": "markdown",
   "metadata": {},
   "source": [
    "Now, do the following:\n",
    "\n",
    "> a) (25 pts) Make a plot similar to above for the height of the maximum buoyancy vs. time for each experiment, all overlaid on the same plot. The above plot is quick-and-dirty; you should make this new plot cleaner and include the axis labels along with units. Make each experiment's curve a different color and/or line style and include a legend that clearly labels each.\n",
    "    \n",
    "> b) (15 points) Explain the physical reason for the trend you are seeing. Note that the buoyancy force at the location of maximum buoyancy is roughly the same for each experiment, since you aren't changing the magnitude of the buoyancy in the initial bubble, but only the width of the bubble. So in other words, why does changing the width, but not the magnitude, lead to the trend you are seeing?"
   ]
  },
  {
   "cell_type": "code",
   "execution_count": null,
   "metadata": {},
   "outputs": [],
   "source": [
    "# Write the code for your plot for problem 3a in this cell!"
   ]
  }
 ],
 "metadata": {
  "anaconda-cloud": {
   "environment": null
  },
  "hide_input": false,
  "kernelspec": {
   "display_name": "Python 3.9 (Default)",
   "language": "python",
   "name": "python3"
  },
  "language_info": {
   "codemirror_mode": {
    "name": "ipython",
    "version": 3
   },
   "file_extension": ".py",
   "mimetype": "text/x-python",
   "name": "python",
   "nbconvert_exporter": "python",
   "pygments_lexer": "ipython3",
   "version": "3.9.7"
  },
  "latex_envs": {
   "LaTeX_envs_menu_present": true,
   "autoclose": false,
   "autocomplete": true,
   "bibliofile": "biblio.bib",
   "cite_by": "apalike",
   "current_citInitial": 1,
   "eqLabelWithNumbers": true,
   "eqNumInitial": 1,
   "hotkeys": {
    "equation": "Ctrl-E",
    "itemize": "Ctrl-I"
   },
   "labels_anchors": false,
   "latex_user_defs": false,
   "report_style_numbering": false,
   "user_envs_cfg": false
  },
  "toc": {
   "base_numbering": 1,
   "nav_menu": {},
   "number_sections": false,
   "sideBar": true,
   "skip_h1_title": false,
   "title_cell": "Table of Contents",
   "title_sidebar": "Contents",
   "toc_cell": false,
   "toc_position": {},
   "toc_section_display": true,
   "toc_window_display": true
  },
  "varInspector": {
   "cols": {
    "lenName": 16,
    "lenType": 16,
    "lenVar": 40
   },
   "kernels_config": {
    "python": {
     "delete_cmd_postfix": "",
     "delete_cmd_prefix": "del ",
     "library": "var_list.py",
     "varRefreshCmd": "print(var_dic_list())"
    },
    "r": {
     "delete_cmd_postfix": ") ",
     "delete_cmd_prefix": "rm(",
     "library": "var_list.r",
     "varRefreshCmd": "cat(var_dic_list()) "
    }
   },
   "types_to_exclude": [
    "module",
    "function",
    "builtin_function_or_method",
    "instance",
    "_Feature"
   ],
   "window_display": false
  }
 },
 "nbformat": 4,
 "nbformat_minor": 1
}
